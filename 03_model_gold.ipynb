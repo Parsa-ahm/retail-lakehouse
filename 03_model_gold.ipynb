{
 "cells": [
  {
   "cell_type": "markdown",
   "id": "89eca916",
   "metadata": {},
   "source": [
    "# 03_model_gold"
   ]
  },
  {
   "cell_type": "code",
   "execution_count": null,
   "id": "286909f9",
   "metadata": {},
   "outputs": [],
   "source": [
    "from pyspark.sql import SparkSession\n",
    "from pyspark.sql.functions import date_format\n",
    "\n",
    "spark = SparkSession.builder.appName(\"GoldModel\").getOrCreate()"
   ]
  },
  {
   "cell_type": "markdown",
   "id": "1aee9770",
   "metadata": {},
   "source": [
    "# Load silver data"
   ]
  },
  {
   "cell_type": "code",
   "execution_count": null,
   "id": "bea2859e",
   "metadata": {},
   "outputs": [],
   "source": [
    "silver_path = \"dbfs:/FileStore/silver/online_retail\"\n",
    "silver_df = spark.read.format(\"delta\").load(silver_path)"
   ]
  },
  {
   "cell_type": "markdown",
   "id": "eac0acfc",
   "metadata": {},
   "source": [
    "# Dim: Products"
   ]
  },
  {
   "cell_type": "code",
   "execution_count": null,
   "id": "4e06007d",
   "metadata": {},
   "outputs": [],
   "source": [
    "dim_product = silver_df.select(\"StockCode\", \"Description\").distinct()\n",
    "dim_product.write.format(\"delta\") \\\n",
    "    .mode(\"overwrite\") \\\n",
    "    .save(\"dbfs:/FileStore/gold/dim_product\")"
   ]
  },
  {
   "cell_type": "markdown",
   "id": "2ebef4f0",
   "metadata": {},
   "source": [
    "# Dim: Customers\n"
   ]
  },
  {
   "cell_type": "code",
   "execution_count": null,
   "id": "102daa8f",
   "metadata": {},
   "outputs": [],
   "source": [
    "dim_customer = silver_df.select(\"CustomerID\", \"Country\").distinct()\n",
    "dim_customer.write.format(\"delta\") \\\n",
    "    .mode(\"overwrite\") \\\n",
    "    .save(\"dbfs:/FileStore/gold/dim_customer\")"
   ]
  },
  {
   "cell_type": "markdown",
   "id": "6803d6f4",
   "metadata": {},
   "source": [
    "# Dim: Date\n"
   ]
  },
  {
   "cell_type": "code",
   "execution_count": null,
   "id": "9002452b",
   "metadata": {},
   "outputs": [],
   "source": [
    "dim_date = silver_df.select(\"InvoiceDateOnly\") \\\n",
    "    .distinct() \\\n",
    "    .withColumn(\"DateKey\", date_format(\"InvoiceDateOnly\",\"yyyyMMdd\").cast(\"int\")) \\\n",
    "    .withColumn(\"Year\", date_format(\"InvoiceDateOnly\",\"yyyy\").cast(\"int\")) \\\n",
    "    .withColumn(\"Month\", date_format(\"InvoiceDateOnly\",\"MM\").cast(\"int\"))\n",
    "\n",
    "dim_date.write.format(\"delta\") \\\n",
    "    .mode(\"overwrite\") \\\n",
    "    .save(\"dbfs:/FileStore/gold/dim_date\")"
   ]
  },
  {
   "cell_type": "markdown",
   "id": "94f102b9",
   "metadata": {},
   "source": [
    "# Fact: Sales"
   ]
  },
  {
   "cell_type": "code",
   "execution_count": null,
   "id": "4440f309",
   "metadata": {},
   "outputs": [],
   "source": [
    "\n",
    "fact_sales = silver_df \\\n",
    "    .withColumn(\"DateKey\", date_format(\"InvoiceDateOnly\",\"yyyyMMdd\").cast(\"int\")) \\\n",
    "    .select(\n",
    "    \"InvoiceNo\",\n",
    "    \"DateKey\",\n",
    "    \"StockCode\",\n",
    "    \"CustomerID\",\n",
    "    \"Quantity\",\n",
    "    \"UnitPrice\",\n",
    "    \"SalesAmount\"\n",
    ")\n",
    "\n",
    "fact_sales.write.format(\"delta\") \\\n",
    "    .mode(\"overwrite\") \\\n",
    "    .partitionBy(\"DateKey\") \\\n",
    "    .save(\"dbfs:/FileStore/gold/fact_sales\")\n",
    "\n",
    "for tbl in [\"dim_product\",\"dim_customer\",\"dim_date\",\"fact_sales\"]:\n",
    "    path = f\"dbfs:/FileStore/gold/{tbl}\"\n",
    "    cnt = spark.read.format(\"delta\").load(path).count()\n",
    "    print(f\"{tbl}: {cnt} rows\")"
   ]
  }
 ],
 "metadata": {
  "language_info": {
   "name": "python"
  }
 },
 "nbformat": 4,
 "nbformat_minor": 5
}
