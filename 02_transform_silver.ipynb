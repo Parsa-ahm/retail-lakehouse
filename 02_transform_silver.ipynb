{
 "cells": [
  {
   "cell_type": "markdown",
   "id": "2a812347",
   "metadata": {},
   "source": [
    "# 02_transform_silver"
   ]
  },
  {
   "cell_type": "code",
   "execution_count": null,
   "id": "225a9c15",
   "metadata": {},
   "outputs": [],
   "source": [
    "from pyspark.sql import SparkSession\n",
    "from pyspark.sql.functions import col, to_timestamp, year, month, expr"
   ]
  },
  {
   "cell_type": "markdown",
   "id": "1751169a",
   "metadata": {},
   "source": [
    "# 1) Start Spark"
   ]
  },
  {
   "cell_type": "code",
   "execution_count": null,
   "id": "8cb36bc7",
   "metadata": {},
   "outputs": [],
   "source": [
    "spark = SparkSession.builder.appName(\"SilverTransform\").getOrCreate()"
   ]
  },
  {
   "cell_type": "markdown",
   "id": "ef20189a",
   "metadata": {},
   "source": [
    "# 2) Read the bronze table"
   ]
  },
  {
   "cell_type": "code",
   "execution_count": null,
   "id": "4ee950e9",
   "metadata": {},
   "outputs": [],
   "source": [
    "bronze_path = \"dbfs:/FileStore/bronze/online_retail\"\n",
    "bronze_df = spark.read.format(\"delta\").load(bronze_path)"
   ]
  },
  {
   "cell_type": "markdown",
   "id": "b2146fd1",
   "metadata": {},
   "source": [
    "# 3) Clean & enrich"
   ]
  },
  {
   "cell_type": "code",
   "execution_count": null,
   "id": "cba1e774",
   "metadata": {},
   "outputs": [],
   "source": [
    "silver_df = (\n",
    "    bronze_df\n",
    "        # a) Remove returns & bad records\n",
    "        .filter(col(\"Quantity\") > 0)\n",
    "        .filter(col(\"CustomerID\").isNotNull())\n",
    "\n",
    "        # b) Convert InvoiceDate string → timestamp\n",
    "        .withColumn(\"InvoiceTimestamp\", to_timestamp(col(\"InvoiceDate\"), \"yyyy-MM-dd HH:mm:ss\"))\n",
    "\n",
    "        # c) Derive date hierarchy & sales amount\n",
    "        .withColumn(\"InvoiceDateOnly\", expr(\"date(InvoiceTimestamp)\"))\n",
    "        .withColumn(\"InvoiceYear\", year(col(\"InvoiceTimestamp\")))\n",
    "        .withColumn(\"InvoiceMonth\", month(col(\"InvoiceTimestamp\")))\n",
    "        .withColumn(\"SalesAmount\", col(\"Quantity\") * col(\"UnitPrice\"))\n",
    ")"
   ]
  },
  {
   "cell_type": "markdown",
   "id": "03520020",
   "metadata": {},
   "source": [
    "# 4) Sanity-check the transformed DataFrame"
   ]
  },
  {
   "cell_type": "code",
   "execution_count": null,
   "id": "9f5d3e8c",
   "metadata": {},
   "outputs": [],
   "source": [
    "print(\"Silver schema:\")\n",
    "silver_df.printSchema()\n",
    "print(f\"Silver-row count: {silver_df.count()}\")\n",
    "silver_df.select(\n",
    "    \"InvoiceNo\", \"InvoiceTimestamp\", \"Quantity\", \"UnitPrice\", \"SalesAmount\",\n",
    "    \"CustomerID\", \"Country\", \"InvoiceYear\", \"InvoiceMonth\"\n",
    ").show(5, truncate=False)"
   ]
  },
  {
   "cell_type": "markdown",
   "id": "f22b4e51",
   "metadata": {},
   "source": [
    "# 5) Write out as Delta (silver layer), partitioned by Year & Month\n"
   ]
  },
  {
   "cell_type": "code",
   "execution_count": null,
   "id": "7f6f27a0",
   "metadata": {},
   "outputs": [],
   "source": [
    "silver_path = \"dbfs:/FileStore/silver/online_retail\"\n",
    "(\n",
    "    silver_df\n",
    "      .write\n",
    "      .format(\"delta\")\n",
    "      .mode(\"overwrite\")\n",
    "      .partitionBy(\"InvoiceYear\", \"InvoiceMonth\")\n",
    "      .save(silver_path)\n",
    ")"
   ]
  },
  {
   "cell_type": "markdown",
   "id": "b6af3b4c",
   "metadata": {},
   "source": [
    "# 6) Validate the write"
   ]
  },
  {
   "cell_type": "code",
   "execution_count": null,
   "id": "64737ca0",
   "metadata": {},
   "outputs": [],
   "source": [
    "valid_df = spark.read.format(\"delta\").load(silver_path)\n",
    "print(f\"Silver Delta files at {silver_path} contain {valid_df.count()} rows\")"
   ]
  }
 ],
 "metadata": {
  "language_info": {
   "name": "python"
  }
 },
 "nbformat": 4,
 "nbformat_minor": 5
}
