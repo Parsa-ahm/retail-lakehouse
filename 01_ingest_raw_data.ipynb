{
 "cells": [
  {
   "cell_type": "markdown",
   "id": "e6e203a3",
   "metadata": {},
   "source": [
    "01_ingest_raw_data"
   ]
  },
  {
   "cell_type": "code",
   "execution_count": 1,
   "id": "94c7ce21",
   "metadata": {},
   "outputs": [
    {
     "ename": "ModuleNotFoundError",
     "evalue": "No module named 'pyspark'",
     "output_type": "error",
     "traceback": [
      "\u001b[31m---------------------------------------------------------------------------\u001b[39m",
      "\u001b[31mModuleNotFoundError\u001b[39m                       Traceback (most recent call last)",
      "\u001b[36mCell\u001b[39m\u001b[36m \u001b[39m\u001b[32mIn[1]\u001b[39m\u001b[32m, line 1\u001b[39m\n\u001b[32m----> \u001b[39m\u001b[32m1\u001b[39m \u001b[38;5;28;01mfrom\u001b[39;00m\u001b[38;5;250m \u001b[39m\u001b[34;01mpyspark\u001b[39;00m\u001b[34;01m.\u001b[39;00m\u001b[34;01msql\u001b[39;00m\u001b[38;5;250m \u001b[39m\u001b[38;5;28;01mimport\u001b[39;00m SparkSession\n",
      "\u001b[31mModuleNotFoundError\u001b[39m: No module named 'pyspark'"
     ]
    }
   ],
   "source": [
    "from pyspark.sql import SparkSession"
   ]
  },
  {
   "cell_type": "markdown",
   "id": "ed435e13",
   "metadata": {},
   "source": [
    "# 1) Start Spark"
   ]
  },
  {
   "cell_type": "code",
   "execution_count": null,
   "id": "459d6022",
   "metadata": {},
   "outputs": [],
   "source": [
    "spark = SparkSession.builder.appName(\"IngestRawRetail\").getOrCreate()"
   ]
  },
  {
   "cell_type": "markdown",
   "id": "9d352a1c",
   "metadata": {},
   "source": [
    "# 2) Read the CSV from DBFS\n"
   ]
  },
  {
   "cell_type": "code",
   "execution_count": null,
   "id": "64ccdf4a",
   "metadata": {},
   "outputs": [
    {
     "ename": "",
     "evalue": "",
     "output_type": "error",
     "traceback": [
      "\u001b[1;31mRunning cells with '.venv (Python 3.12.5)' requires the ipykernel package.\n",
      "\u001b[1;31mInstall 'ipykernel' into the Python environment. \n",
      "\u001b[1;31mCommand: 'c:/Users/parsa/OneDrive/Documents/Github/.venv/Scripts/python.exe -m pip install ipykernel -U --force-reinstall'"
     ]
    }
   ],
   "source": [
    "csv_path = \"../data/online_retail.csv\"\n",
    "df = spark.read \\\n",
    "    .option(\"header\", True) \\\n",
    "    .option(\"inferSchema\", True) \\\n",
    "    .option(\"timestampFormat\", \"dd/MM/yyyy HH:mm\") \\\n",
    "    .csv(csv_path)"
   ]
  },
  {
   "cell_type": "markdown",
   "id": "2e4e93f8",
   "metadata": {},
   "source": [
    "# 3) Sanity checks"
   ]
  },
  {
   "cell_type": "code",
   "execution_count": null,
   "id": "5eaa5cca",
   "metadata": {},
   "outputs": [],
   "source": [
    "print(\"Schema:\")\n",
    "df.printSchema()\n",
    "print(f\"Total rows: {df.count()}\")\n",
    "df.show(5, truncate=False)"
   ]
  },
  {
   "cell_type": "markdown",
   "id": "edbdc18b",
   "metadata": {},
   "source": [
    "# 4) Write out as Delta (bronze layer)\n"
   ]
  },
  {
   "cell_type": "code",
   "execution_count": null,
   "id": "809cc955",
   "metadata": {},
   "outputs": [],
   "source": [
    "bronze_path = \"dbfs:/FileStore/bronze/online_retail\"\n",
    "df.write.format(\"delta\").mode(\"overwrite\").save(bronze_path)"
   ]
  },
  {
   "cell_type": "markdown",
   "id": "e8ee9aef",
   "metadata": {},
   "source": [
    "# 5) Validate write\n"
   ]
  },
  {
   "cell_type": "code",
   "execution_count": null,
   "id": "eb316b8c",
   "metadata": {},
   "outputs": [],
   "source": [
    "bronze_df = spark.read.format(\"delta\").load(bronze_path)\n",
    "print(f\"Bronze rows: {bronze_df.count()}\")"
   ]
  }
 ],
 "metadata": {
  "kernelspec": {
   "display_name": ".venv",
   "language": "python",
   "name": "python3"
  },
  "language_info": {
   "codemirror_mode": {
    "name": "ipython",
    "version": 3
   },
   "file_extension": ".py",
   "mimetype": "text/x-python",
   "name": "python",
   "nbconvert_exporter": "python",
   "pygments_lexer": "ipython3",
   "version": "3.12.5"
  }
 },
 "nbformat": 4,
 "nbformat_minor": 5
}
